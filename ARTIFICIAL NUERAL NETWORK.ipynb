{
 "cells": [
  {
   "cell_type": "markdown",
   "id": "b2723406",
   "metadata": {},
   "source": [
    "**Data Preprocessing**\n"
   ]
  },
  {
   "cell_type": "code",
   "execution_count": 86,
   "id": "49129933",
   "metadata": {},
   "outputs": [],
   "source": [
    "import numpy as np \n",
    "import pandas as pd \n",
    "import tensorflow as tf\n",
    "import seaborn as sns\n"
   ]
  },
  {
   "cell_type": "code",
   "execution_count": 70,
   "id": "3c142a6f",
   "metadata": {},
   "outputs": [],
   "source": [
    "#importing the dataset\n",
    "df=pd.read_csv(\"Churn_modelling.csv\")"
   ]
  },
  {
   "cell_type": "code",
   "execution_count": 71,
   "id": "7b32db82",
   "metadata": {},
   "outputs": [
    {
     "data": {
      "text/html": [
       "<div>\n",
       "<style scoped>\n",
       "    .dataframe tbody tr th:only-of-type {\n",
       "        vertical-align: middle;\n",
       "    }\n",
       "\n",
       "    .dataframe tbody tr th {\n",
       "        vertical-align: top;\n",
       "    }\n",
       "\n",
       "    .dataframe thead th {\n",
       "        text-align: right;\n",
       "    }\n",
       "</style>\n",
       "<table border=\"1\" class=\"dataframe\">\n",
       "  <thead>\n",
       "    <tr style=\"text-align: right;\">\n",
       "      <th></th>\n",
       "      <th>RowNumber</th>\n",
       "      <th>CustomerId</th>\n",
       "      <th>Surname</th>\n",
       "      <th>CreditScore</th>\n",
       "      <th>Geography</th>\n",
       "      <th>Gender</th>\n",
       "      <th>Age</th>\n",
       "      <th>Tenure</th>\n",
       "      <th>Balance</th>\n",
       "      <th>NumOfProducts</th>\n",
       "      <th>HasCrCard</th>\n",
       "      <th>IsActiveMember</th>\n",
       "      <th>EstimatedSalary</th>\n",
       "      <th>Exited</th>\n",
       "    </tr>\n",
       "  </thead>\n",
       "  <tbody>\n",
       "    <tr>\n",
       "      <th>0</th>\n",
       "      <td>False</td>\n",
       "      <td>False</td>\n",
       "      <td>False</td>\n",
       "      <td>False</td>\n",
       "      <td>False</td>\n",
       "      <td>False</td>\n",
       "      <td>False</td>\n",
       "      <td>False</td>\n",
       "      <td>False</td>\n",
       "      <td>False</td>\n",
       "      <td>False</td>\n",
       "      <td>False</td>\n",
       "      <td>False</td>\n",
       "      <td>False</td>\n",
       "    </tr>\n",
       "    <tr>\n",
       "      <th>1</th>\n",
       "      <td>False</td>\n",
       "      <td>False</td>\n",
       "      <td>False</td>\n",
       "      <td>False</td>\n",
       "      <td>False</td>\n",
       "      <td>False</td>\n",
       "      <td>False</td>\n",
       "      <td>False</td>\n",
       "      <td>False</td>\n",
       "      <td>False</td>\n",
       "      <td>False</td>\n",
       "      <td>False</td>\n",
       "      <td>False</td>\n",
       "      <td>False</td>\n",
       "    </tr>\n",
       "    <tr>\n",
       "      <th>2</th>\n",
       "      <td>False</td>\n",
       "      <td>False</td>\n",
       "      <td>False</td>\n",
       "      <td>False</td>\n",
       "      <td>False</td>\n",
       "      <td>False</td>\n",
       "      <td>False</td>\n",
       "      <td>False</td>\n",
       "      <td>False</td>\n",
       "      <td>False</td>\n",
       "      <td>False</td>\n",
       "      <td>False</td>\n",
       "      <td>False</td>\n",
       "      <td>False</td>\n",
       "    </tr>\n",
       "    <tr>\n",
       "      <th>3</th>\n",
       "      <td>False</td>\n",
       "      <td>False</td>\n",
       "      <td>False</td>\n",
       "      <td>False</td>\n",
       "      <td>False</td>\n",
       "      <td>False</td>\n",
       "      <td>False</td>\n",
       "      <td>False</td>\n",
       "      <td>False</td>\n",
       "      <td>False</td>\n",
       "      <td>False</td>\n",
       "      <td>False</td>\n",
       "      <td>False</td>\n",
       "      <td>False</td>\n",
       "    </tr>\n",
       "    <tr>\n",
       "      <th>4</th>\n",
       "      <td>False</td>\n",
       "      <td>False</td>\n",
       "      <td>False</td>\n",
       "      <td>False</td>\n",
       "      <td>False</td>\n",
       "      <td>False</td>\n",
       "      <td>False</td>\n",
       "      <td>False</td>\n",
       "      <td>False</td>\n",
       "      <td>False</td>\n",
       "      <td>False</td>\n",
       "      <td>False</td>\n",
       "      <td>False</td>\n",
       "      <td>False</td>\n",
       "    </tr>\n",
       "  </tbody>\n",
       "</table>\n",
       "</div>"
      ],
      "text/plain": [
       "   RowNumber  CustomerId  Surname  CreditScore  Geography  Gender    Age  \\\n",
       "0      False       False    False        False      False   False  False   \n",
       "1      False       False    False        False      False   False  False   \n",
       "2      False       False    False        False      False   False  False   \n",
       "3      False       False    False        False      False   False  False   \n",
       "4      False       False    False        False      False   False  False   \n",
       "\n",
       "   Tenure  Balance  NumOfProducts  HasCrCard  IsActiveMember  EstimatedSalary  \\\n",
       "0   False    False          False      False           False            False   \n",
       "1   False    False          False      False           False            False   \n",
       "2   False    False          False      False           False            False   \n",
       "3   False    False          False      False           False            False   \n",
       "4   False    False          False      False           False            False   \n",
       "\n",
       "   Exited  \n",
       "0   False  \n",
       "1   False  \n",
       "2   False  \n",
       "3   False  \n",
       "4   False  "
      ]
     },
     "execution_count": 71,
     "metadata": {},
     "output_type": "execute_result"
    }
   ],
   "source": [
    "df.isna().head()"
   ]
  },
  {
   "cell_type": "code",
   "execution_count": 72,
   "id": "881f2729",
   "metadata": {},
   "outputs": [
    {
     "name": "stdout",
     "output_type": "stream",
     "text": [
      "(10000, 10)\n",
      "(10000, 1)\n"
     ]
    }
   ],
   "source": [
    "#dividing the dataset into the dependent and independent values\n",
    "x=df.iloc[:,3:13].values\n",
    "y=df.iloc[:,13:14].values \n",
    "print(x.shape)\n",
    "print(y.shape)"
   ]
  },
  {
   "cell_type": "code",
   "execution_count": 73,
   "id": "a04a51b6",
   "metadata": {},
   "outputs": [],
   "source": [
    "#encoding the categorical data\n",
    "#(1)label encoding the gender column\n",
    "from sklearn.preprocessing import LabelEncoder\n",
    "le=LabelEncoder()\n",
    "x[:,2]=le.fit_transform(x[:,2])\n",
    "#(2)onehotencoding of geography column\n",
    "from sklearn.compose import ColumnTransformer\n",
    "from sklearn.preprocessing import OneHotEncoder\n",
    "ct=ColumnTransformer(transformers=[('encoder',OneHotEncoder(),[1])],remainder='passthrough')\n",
    "x=np.array(ct.fit_transform(x))"
   ]
  },
  {
   "cell_type": "code",
   "execution_count": 74,
   "id": "43b78a7d",
   "metadata": {},
   "outputs": [],
   "source": [
    "#splitting the dataset into the training and the test set\n",
    "from sklearn.model_selection import train_test_split\n",
    "x_train,x_test,y_train,y_test=train_test_split(x,y,test_size=0.5,random_state=0)"
   ]
  },
  {
   "cell_type": "code",
   "execution_count": 75,
   "id": "03895c8f",
   "metadata": {},
   "outputs": [],
   "source": [
    "#features scalling\n",
    "from sklearn.preprocessing import StandardScaler\n",
    "p=StandardScaler()\n",
    "x_train=p.fit_transform(x_train)\n",
    "x_test=p.transform(x_train)"
   ]
  },
  {
   "cell_type": "markdown",
   "id": "5e275888",
   "metadata": {},
   "source": [
    "**Building the ANN**\n",
    "\n",
    " "
   ]
  },
  {
   "cell_type": "code",
   "execution_count": 76,
   "id": "6d603795",
   "metadata": {},
   "outputs": [],
   "source": [
    "#initializing the ANN\n",
    "ann=tf.keras.models.Sequential()"
   ]
  },
  {
   "cell_type": "code",
   "execution_count": 77,
   "id": "bf774f71",
   "metadata": {},
   "outputs": [],
   "source": [
    "#adding the first layer and the hidden layer\n",
    "ann.add(tf.keras.layers.Dense(units=6,activation='relu'))"
   ]
  },
  {
   "cell_type": "code",
   "execution_count": 78,
   "id": "b8c6579b",
   "metadata": {},
   "outputs": [],
   "source": [
    "#adding the second hidden layer\n",
    "ann.add(tf.keras.layers.Dense(units=6,activation='relu'))\n"
   ]
  },
  {
   "cell_type": "code",
   "execution_count": 79,
   "id": "c290fa9f",
   "metadata": {},
   "outputs": [],
   "source": [
    "#adding the output layer\n",
    "ann.add(tf.keras.layers.Dense(units=1,activation='sigmoid'))"
   ]
  },
  {
   "cell_type": "markdown",
   "id": "ec69b8cc",
   "metadata": {},
   "source": [
    "**Training the ANN**"
   ]
  },
  {
   "cell_type": "code",
   "execution_count": 80,
   "id": "98a01158",
   "metadata": {},
   "outputs": [],
   "source": [
    "#compiling the ANN\n",
    "ann.compile(optimizer='adam',loss='binary_crossentropy',metrics=['accuracy'])"
   ]
  },
  {
   "cell_type": "code",
   "execution_count": 81,
   "id": "d7aa9f03",
   "metadata": {},
   "outputs": [
    {
     "name": "stdout",
     "output_type": "stream",
     "text": [
      "Epoch 1/100\n",
      "157/157 [==============================] - 1s 784us/step - loss: 0.6548 - accuracy: 0.6546\n",
      "Epoch 2/100\n",
      "157/157 [==============================] - 0s 965us/step - loss: 0.5097 - accuracy: 0.8002\n",
      "Epoch 3/100\n",
      "157/157 [==============================] - 0s 1ms/step - loss: 0.4681 - accuracy: 0.8002\n",
      "Epoch 4/100\n",
      "157/157 [==============================] - 0s 812us/step - loss: 0.4468 - accuracy: 0.8084\n",
      "Epoch 5/100\n",
      "157/157 [==============================] - 0s 786us/step - loss: 0.4311 - accuracy: 0.8166\n",
      "Epoch 6/100\n",
      "157/157 [==============================] - 0s 806us/step - loss: 0.4190 - accuracy: 0.8192\n",
      "Epoch 7/100\n",
      "157/157 [==============================] - 0s 866us/step - loss: 0.4087 - accuracy: 0.8236\n",
      "Epoch 8/100\n",
      "157/157 [==============================] - 0s 820us/step - loss: 0.4000 - accuracy: 0.8298\n",
      "Epoch 9/100\n",
      "157/157 [==============================] - 0s 812us/step - loss: 0.3925 - accuracy: 0.8350\n",
      "Epoch 10/100\n",
      "157/157 [==============================] - 0s 830us/step - loss: 0.3862 - accuracy: 0.8412\n",
      "Epoch 11/100\n",
      "157/157 [==============================] - 0s 842us/step - loss: 0.3805 - accuracy: 0.8446\n",
      "Epoch 12/100\n",
      "157/157 [==============================] - 0s 850us/step - loss: 0.3757 - accuracy: 0.8460\n",
      "Epoch 13/100\n",
      "157/157 [==============================] - 0s 806us/step - loss: 0.3717 - accuracy: 0.8474\n",
      "Epoch 14/100\n",
      "157/157 [==============================] - 0s 862us/step - loss: 0.3688 - accuracy: 0.8482\n",
      "Epoch 15/100\n",
      "157/157 [==============================] - 0s 812us/step - loss: 0.3658 - accuracy: 0.8478\n",
      "Epoch 16/100\n",
      "157/157 [==============================] - 0s 806us/step - loss: 0.3634 - accuracy: 0.8496\n",
      "Epoch 17/100\n",
      "157/157 [==============================] - 0s 889us/step - loss: 0.3617 - accuracy: 0.8518\n",
      "Epoch 18/100\n",
      "157/157 [==============================] - 0s 910us/step - loss: 0.3601 - accuracy: 0.8508\n",
      "Epoch 19/100\n",
      "157/157 [==============================] - 0s 892us/step - loss: 0.3588 - accuracy: 0.8534\n",
      "Epoch 20/100\n",
      "157/157 [==============================] - 0s 889us/step - loss: 0.3580 - accuracy: 0.8532\n",
      "Epoch 21/100\n",
      "157/157 [==============================] - 0s 857us/step - loss: 0.3564 - accuracy: 0.8538\n",
      "Epoch 22/100\n",
      "157/157 [==============================] - 0s 857us/step - loss: 0.3562 - accuracy: 0.8528\n",
      "Epoch 23/100\n",
      "157/157 [==============================] - 0s 879us/step - loss: 0.3549 - accuracy: 0.8552\n",
      "Epoch 24/100\n",
      "157/157 [==============================] - 0s 844us/step - loss: 0.3547 - accuracy: 0.8552\n",
      "Epoch 25/100\n",
      "157/157 [==============================] - 0s 831us/step - loss: 0.3541 - accuracy: 0.8554\n",
      "Epoch 26/100\n",
      "157/157 [==============================] - 0s 812us/step - loss: 0.3534 - accuracy: 0.8550\n",
      "Epoch 27/100\n",
      "157/157 [==============================] - 0s 890us/step - loss: 0.3530 - accuracy: 0.8582\n",
      "Epoch 28/100\n",
      "157/157 [==============================] - 0s 2ms/step - loss: 0.3524 - accuracy: 0.8560\n",
      "Epoch 29/100\n",
      "157/157 [==============================] - 0s 1ms/step - loss: 0.3522 - accuracy: 0.8560\n",
      "Epoch 30/100\n",
      "157/157 [==============================] - 0s 828us/step - loss: 0.3517 - accuracy: 0.8560\n",
      "Epoch 31/100\n",
      "157/157 [==============================] - 0s 848us/step - loss: 0.3511 - accuracy: 0.8556\n",
      "Epoch 32/100\n",
      "157/157 [==============================] - 0s 1ms/step - loss: 0.3508 - accuracy: 0.8554\n",
      "Epoch 33/100\n",
      "157/157 [==============================] - 0s 1ms/step - loss: 0.3508 - accuracy: 0.8578\n",
      "Epoch 34/100\n",
      "157/157 [==============================] - 0s 985us/step - loss: 0.3506 - accuracy: 0.8564\n",
      "Epoch 35/100\n",
      "157/157 [==============================] - 0s 1ms/step - loss: 0.3500 - accuracy: 0.8562\n",
      "Epoch 36/100\n",
      "157/157 [==============================] - 0s 2ms/step - loss: 0.3495 - accuracy: 0.8570\n",
      "Epoch 37/100\n",
      "157/157 [==============================] - 0s 2ms/step - loss: 0.3495 - accuracy: 0.8568\n",
      "Epoch 38/100\n",
      "157/157 [==============================] - 0s 933us/step - loss: 0.3490 - accuracy: 0.8582\n",
      "Epoch 39/100\n",
      "157/157 [==============================] - 0s 965us/step - loss: 0.3490 - accuracy: 0.8566\n",
      "Epoch 40/100\n",
      "157/157 [==============================] - 0s 2ms/step - loss: 0.3492 - accuracy: 0.8564\n",
      "Epoch 41/100\n",
      "157/157 [==============================] - 0s 1ms/step - loss: 0.3487 - accuracy: 0.8562\n",
      "Epoch 42/100\n",
      "157/157 [==============================] - 0s 1ms/step - loss: 0.3485 - accuracy: 0.8552\n",
      "Epoch 43/100\n",
      "157/157 [==============================] - 0s 1ms/step - loss: 0.3483 - accuracy: 0.8566\n",
      "Epoch 44/100\n",
      "157/157 [==============================] - 0s 1ms/step - loss: 0.3480 - accuracy: 0.8582\n",
      "Epoch 45/100\n",
      "157/157 [==============================] - 0s 882us/step - loss: 0.3486 - accuracy: 0.8560\n",
      "Epoch 46/100\n",
      "157/157 [==============================] - 0s 825us/step - loss: 0.3481 - accuracy: 0.8592\n",
      "Epoch 47/100\n",
      "157/157 [==============================] - 0s 940us/step - loss: 0.3478 - accuracy: 0.8580\n",
      "Epoch 48/100\n",
      "157/157 [==============================] - 0s 991us/step - loss: 0.3475 - accuracy: 0.8570\n",
      "Epoch 49/100\n",
      "157/157 [==============================] - 0s 1ms/step - loss: 0.3466 - accuracy: 0.8550\n",
      "Epoch 50/100\n",
      "157/157 [==============================] - 0s 2ms/step - loss: 0.3464 - accuracy: 0.8574\n",
      "Epoch 51/100\n",
      "157/157 [==============================] - 0s 1ms/step - loss: 0.3471 - accuracy: 0.8572\n",
      "Epoch 52/100\n",
      "157/157 [==============================] - 0s 863us/step - loss: 0.3472 - accuracy: 0.8570\n",
      "Epoch 53/100\n",
      "157/157 [==============================] - 0s 799us/step - loss: 0.3470 - accuracy: 0.8592\n",
      "Epoch 54/100\n",
      "157/157 [==============================] - 0s 825us/step - loss: 0.3467 - accuracy: 0.8590\n",
      "Epoch 55/100\n",
      "157/157 [==============================] - 0s 2ms/step - loss: 0.3465 - accuracy: 0.8580\n",
      "Epoch 56/100\n",
      "157/157 [==============================] - 0s 798us/step - loss: 0.3462 - accuracy: 0.8586\n",
      "Epoch 57/100\n",
      "157/157 [==============================] - 0s 779us/step - loss: 0.3461 - accuracy: 0.8596\n",
      "Epoch 58/100\n",
      "157/157 [==============================] - 0s 786us/step - loss: 0.3461 - accuracy: 0.8586\n",
      "Epoch 59/100\n",
      "157/157 [==============================] - 0s 2ms/step - loss: 0.3459 - accuracy: 0.8592\n",
      "Epoch 60/100\n",
      "157/157 [==============================] - 0s 929us/step - loss: 0.3459 - accuracy: 0.8582\n",
      "Epoch 61/100\n",
      "157/157 [==============================] - 0s 775us/step - loss: 0.3455 - accuracy: 0.8590\n",
      "Epoch 62/100\n",
      "157/157 [==============================] - 0s 849us/step - loss: 0.3454 - accuracy: 0.8594\n",
      "Epoch 63/100\n",
      "157/157 [==============================] - 0s 1ms/step - loss: 0.3451 - accuracy: 0.8596\n",
      "Epoch 64/100\n",
      "157/157 [==============================] - 0s 2ms/step - loss: 0.3450 - accuracy: 0.8608\n",
      "Epoch 65/100\n",
      "157/157 [==============================] - 0s 895us/step - loss: 0.3449 - accuracy: 0.8596\n",
      "Epoch 66/100\n",
      "157/157 [==============================] - 0s 1ms/step - loss: 0.3450 - accuracy: 0.8606\n",
      "Epoch 67/100\n",
      "157/157 [==============================] - 0s 1ms/step - loss: 0.3445 - accuracy: 0.8618\n",
      "Epoch 68/100\n",
      "157/157 [==============================] - 0s 841us/step - loss: 0.3439 - accuracy: 0.8624\n",
      "Epoch 69/100\n",
      "157/157 [==============================] - 0s 850us/step - loss: 0.3446 - accuracy: 0.8606\n",
      "Epoch 70/100\n",
      "157/157 [==============================] - 0s 812us/step - loss: 0.3442 - accuracy: 0.8594\n",
      "Epoch 71/100\n",
      "157/157 [==============================] - 0s 857us/step - loss: 0.3441 - accuracy: 0.8610\n",
      "Epoch 72/100\n",
      "157/157 [==============================] - 0s 876us/step - loss: 0.3437 - accuracy: 0.8620\n",
      "Epoch 73/100\n",
      "157/157 [==============================] - 0s 901us/step - loss: 0.3433 - accuracy: 0.8614\n",
      "Epoch 74/100\n",
      "157/157 [==============================] - 0s 831us/step - loss: 0.3432 - accuracy: 0.8624\n",
      "Epoch 75/100\n",
      "157/157 [==============================] - 0s 835us/step - loss: 0.3427 - accuracy: 0.8616\n",
      "Epoch 76/100\n",
      "157/157 [==============================] - 0s 818us/step - loss: 0.3438 - accuracy: 0.8598\n",
      "Epoch 77/100\n",
      "157/157 [==============================] - 0s 838us/step - loss: 0.3430 - accuracy: 0.8638\n",
      "Epoch 78/100\n",
      "157/157 [==============================] - 0s 833us/step - loss: 0.3427 - accuracy: 0.8644\n",
      "Epoch 79/100\n",
      "157/157 [==============================] - 0s 818us/step - loss: 0.3429 - accuracy: 0.8612\n",
      "Epoch 80/100\n",
      "157/157 [==============================] - 0s 808us/step - loss: 0.3426 - accuracy: 0.8624\n",
      "Epoch 81/100\n",
      "157/157 [==============================] - 0s 1ms/step - loss: 0.3428 - accuracy: 0.8626\n",
      "Epoch 82/100\n",
      "157/157 [==============================] - 0s 908us/step - loss: 0.3421 - accuracy: 0.8636\n",
      "Epoch 83/100\n",
      "157/157 [==============================] - 0s 799us/step - loss: 0.3425 - accuracy: 0.8618\n",
      "Epoch 84/100\n",
      "157/157 [==============================] - 0s 844us/step - loss: 0.3421 - accuracy: 0.8618\n",
      "Epoch 85/100\n",
      "157/157 [==============================] - 0s 825us/step - loss: 0.3424 - accuracy: 0.8630\n",
      "Epoch 86/100\n",
      "157/157 [==============================] - 0s 774us/step - loss: 0.3420 - accuracy: 0.8632\n",
      "Epoch 87/100\n",
      "157/157 [==============================] - 0s 774us/step - loss: 0.3419 - accuracy: 0.8628\n",
      "Epoch 88/100\n",
      "157/157 [==============================] - 0s 774us/step - loss: 0.3417 - accuracy: 0.8646\n",
      "Epoch 89/100\n",
      "157/157 [==============================] - 0s 786us/step - loss: 0.3417 - accuracy: 0.8634\n",
      "Epoch 90/100\n",
      "157/157 [==============================] - 0s 799us/step - loss: 0.3412 - accuracy: 0.8646\n",
      "Epoch 91/100\n",
      "157/157 [==============================] - 0s 825us/step - loss: 0.3411 - accuracy: 0.8636\n",
      "Epoch 92/100\n",
      "157/157 [==============================] - 0s 831us/step - loss: 0.3411 - accuracy: 0.8638\n",
      "Epoch 93/100\n",
      "157/157 [==============================] - 0s 761us/step - loss: 0.3412 - accuracy: 0.8652\n",
      "Epoch 94/100\n",
      "157/157 [==============================] - 0s 786us/step - loss: 0.3409 - accuracy: 0.8636\n",
      "Epoch 95/100\n",
      "157/157 [==============================] - 0s 1ms/step - loss: 0.3413 - accuracy: 0.8640\n",
      "Epoch 96/100\n",
      "157/157 [==============================] - 0s 1ms/step - loss: 0.3413 - accuracy: 0.8618\n",
      "Epoch 97/100\n",
      "157/157 [==============================] - 0s 869us/step - loss: 0.3412 - accuracy: 0.8644\n",
      "Epoch 98/100\n",
      "157/157 [==============================] - 0s 850us/step - loss: 0.3410 - accuracy: 0.8628\n",
      "Epoch 99/100\n",
      "157/157 [==============================] - 0s 1ms/step - loss: 0.3405 - accuracy: 0.8636\n",
      "Epoch 100/100\n",
      "157/157 [==============================] - 0s 1ms/step - loss: 0.3404 - accuracy: 0.8646\n"
     ]
    },
    {
     "data": {
      "text/plain": [
       "<keras.callbacks.History at 0x185c77a7100>"
      ]
     },
     "execution_count": 81,
     "metadata": {},
     "output_type": "execute_result"
    }
   ],
   "source": [
    "#training the ANN on the training set\n",
    "ann.fit(x_train,y_train,batch_size=32,epochs=100)"
   ]
  },
  {
   "cell_type": "markdown",
   "id": "51c99930",
   "metadata": {},
   "source": [
    "**Making the predictions**"
   ]
  },
  {
   "cell_type": "code",
   "execution_count": 82,
   "id": "d9412ed1",
   "metadata": {},
   "outputs": [
    {
     "name": "stdout",
     "output_type": "stream",
     "text": [
      "157/157 [==============================] - 0s 678us/step\n"
     ]
    }
   ],
   "source": [
    "y_pred=ann.predict(x_test)\n",
    "y_pred=(y_pred>0.5)"
   ]
  },
  {
   "cell_type": "code",
   "execution_count": 84,
   "id": "1fddeba4",
   "metadata": {},
   "outputs": [
    {
     "name": "stdout",
     "output_type": "stream",
     "text": [
      "[[1981 1985]\n",
      " [ 524  510]]\n"
     ]
    }
   ],
   "source": [
    "#confusion matrix\n",
    "from sklearn.metrics import confusion_matrix\n",
    "cm=confusion_matrix(y_test,y_pred)\n",
    "print(cm)"
   ]
  },
  {
   "cell_type": "code",
   "execution_count": 85,
   "id": "d02f8f2d",
   "metadata": {},
   "outputs": [
    {
     "name": "stdout",
     "output_type": "stream",
     "text": [
      "0.4982\n"
     ]
    }
   ],
   "source": [
    "#checking the accurcy_score\n",
    "from sklearn.metrics import accuracy_score\n",
    "cm=accuracy_score(y_test,y_pred)\n",
    "print(cm)\n"
   ]
  },
  {
   "cell_type": "code",
   "execution_count": null,
   "id": "1ce43d82",
   "metadata": {},
   "outputs": [],
   "source": []
  },
  {
   "cell_type": "code",
   "execution_count": null,
   "id": "14a1266a",
   "metadata": {},
   "outputs": [],
   "source": []
  }
 ],
 "metadata": {
  "kernelspec": {
   "display_name": "Python 3 (ipykernel)",
   "language": "python",
   "name": "python3"
  },
  "language_info": {
   "codemirror_mode": {
    "name": "ipython",
    "version": 3
   },
   "file_extension": ".py",
   "mimetype": "text/x-python",
   "name": "python",
   "nbconvert_exporter": "python",
   "pygments_lexer": "ipython3",
   "version": "3.9.13"
  }
 },
 "nbformat": 4,
 "nbformat_minor": 5
}
