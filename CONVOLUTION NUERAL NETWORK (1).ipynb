{
 "cells": [
  {
   "cell_type": "markdown",
   "id": "9192626f",
   "metadata": {},
   "source": [
    "**FINDING THE IMAGE CLASSIFICATION OF DOG AND CAT**\n"
   ]
  },
  {
   "cell_type": "markdown",
   "id": "a6cb4d40",
   "metadata": {},
   "source": [
    "**DATA PREPROCESSING** "
   ]
  },
  {
   "cell_type": "code",
   "execution_count": null,
   "id": "9b90b6f9",
   "metadata": {},
   "outputs": [],
   "source": [
    "#importing the libraries\n",
    "import tensorflow as tf\n",
    "from keras.preprocessing.image import ImageDataGenerator"
   ]
  },
  {
   "cell_type": "code",
   "execution_count": 15,
   "id": "315af872",
   "metadata": {},
   "outputs": [
    {
     "name": "stdout",
     "output_type": "stream",
     "text": [
      "Found 8000 images belonging to 2 classes.\n"
     ]
    }
   ],
   "source": [
    "#preprocessing the training set(image augmentation is used to prevent the overfitting)\n",
    "train_datagen=ImageDataGenerator(\n",
    "    rescale=1./255,\n",
    "    shear_range=0.2,\n",
    "    zoom_range=0.2,\n",
    "    horizontal_flip=True)\n",
    "training_set=train_datagen.flow_from_directory(\n",
    "    'Downloads/training_set',\n",
    "    target_size=(64,64),\n",
    "    batch_size=32,\n",
    "    class_mode='binary')\n",
    "\n"
   ]
  },
  {
   "cell_type": "code",
   "execution_count": 16,
   "id": "869541fd",
   "metadata": {},
   "outputs": [
    {
     "name": "stdout",
     "output_type": "stream",
     "text": [
      "Found 2000 images belonging to 2 classes.\n"
     ]
    }
   ],
   "source": [
    "#preprocessing the test set\n",
    "test_datagen=ImageDataGenerator(rescale=1./255)\n",
    "test_set=test_datagen.flow_from_directory(\n",
    "    'Downloads/test_set',\n",
    "    target_size=(64,64),\n",
    "    batch_size=32,\n",
    "    class_mode='binary')\n"
   ]
  },
  {
   "cell_type": "markdown",
   "id": "5373aabd",
   "metadata": {},
   "source": [
    "**BUILDING THE CONVOLUTIONAL NUERAL NETWORK(CNN)**\n"
   ]
  },
  {
   "cell_type": "code",
   "execution_count": 17,
   "id": "086f606a",
   "metadata": {},
   "outputs": [],
   "source": [
    "#initilizing the cnn\n",
    "cnn=tf.keras.models.Sequential()"
   ]
  },
  {
   "cell_type": "code",
   "execution_count": 18,
   "id": "20111494",
   "metadata": {},
   "outputs": [],
   "source": [
    "#convolution\n",
    "cnn.add(tf.keras.layers.Conv2D(filters=32,kernel_size=3,activation='relu',input_shape=[64,64,3]))"
   ]
  },
  {
   "cell_type": "code",
   "execution_count": 19,
   "id": "7a489710",
   "metadata": {},
   "outputs": [],
   "source": [
    "#pooling\n",
    "cnn.add(tf.keras.layers.MaxPool2D(pool_size=2,strides=2))"
   ]
  },
  {
   "cell_type": "code",
   "execution_count": 20,
   "id": "b52c7c34",
   "metadata": {},
   "outputs": [],
   "source": [
    "#adding the second convolutional layers\n",
    "cnn.add(tf.keras.layers.Conv2D(filters=32,kernel_size=3,activation='relu'))\n",
    "cnn.add(tf.keras.layers.MaxPool2D(pool_size=2,strides=2))"
   ]
  },
  {
   "cell_type": "code",
   "execution_count": 21,
   "id": "e60b6f97",
   "metadata": {},
   "outputs": [],
   "source": [
    "#flattening\n",
    "cnn.add(tf.keras.layers.Flatten())"
   ]
  },
  {
   "cell_type": "code",
   "execution_count": 22,
   "id": "a727bc70",
   "metadata": {},
   "outputs": [],
   "source": [
    "#full connection\n",
    "cnn.add(tf.keras.layers.Dense(units=128,activation='relu'))\n"
   ]
  },
  {
   "cell_type": "code",
   "execution_count": 23,
   "id": "a6c5fb6a",
   "metadata": {},
   "outputs": [],
   "source": [
    "#output layer\n",
    "cnn.add(tf.keras.layers.Dense(units=1,activation='sigmoid'))\n",
    "\n"
   ]
  },
  {
   "cell_type": "markdown",
   "id": "61232c80",
   "metadata": {},
   "source": [
    "**TRAINING THE CNN**"
   ]
  },
  {
   "cell_type": "code",
   "execution_count": 24,
   "id": "aa1f947f",
   "metadata": {},
   "outputs": [],
   "source": [
    "#compling the cnn\n",
    "cnn.compile(optimizer='adam',loss='binary_crossentropy',metrics=['accuracy'])\n"
   ]
  },
  {
   "cell_type": "code",
   "execution_count": null,
   "id": "f9123c04",
   "metadata": {},
   "outputs": [],
   "source": [
    "#training the cnn\n",
    "cnn.fit(x=training_set,validation_data=test_set,epochs=5)\n"
   ]
  },
  {
   "cell_type": "code",
   "execution_count": null,
   "id": "3e0ab712",
   "metadata": {},
   "outputs": [],
   "source": []
  }
 ],
 "metadata": {
  "kernelspec": {
   "display_name": "Python 3 (ipykernel)",
   "language": "python",
   "name": "python3"
  },
  "language_info": {
   "codemirror_mode": {
    "name": "ipython",
    "version": 3
   },
   "file_extension": ".py",
   "mimetype": "text/x-python",
   "name": "python",
   "nbconvert_exporter": "python",
   "pygments_lexer": "ipython3",
   "version": "3.9.13"
  }
 },
 "nbformat": 4,
 "nbformat_minor": 5
}
